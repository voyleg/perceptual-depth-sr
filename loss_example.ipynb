{
 "cells": [
  {
   "cell_type": "code",
   "execution_count": null,
   "metadata": {},
   "outputs": [],
   "source": [
    "import sys\n",
    "\n",
    "import numpy as np\n",
    "from matplotlib import pyplot as plt\n",
    "import scipy.signal\n",
    "import torch\n",
    "\n",
    "sys.path.append('./src')\n",
    "from msg.msg import MSGNet\n",
    "from msg.visualization import render_disparity\n",
    "from losses.msev import MSEv\n",
    "\n",
    "%matplotlib inline"
   ]
  },
  {
   "cell_type": "markdown",
   "metadata": {},
   "source": [
    "#### Load data"
   ]
  },
  {
   "cell_type": "code",
   "execution_count": null,
   "metadata": {},
   "outputs": [],
   "source": [
    "data = {}\n",
    "samples = 'lucy', 'plant', 'vintage'\n",
    "\n",
    "for sample in samples:\n",
    "    data[sample] = {}\n",
    "    for modality in 'disparity', 'rgb':\n",
    "        with open(f'data/{sample}_{modality}.npy', 'rb') as file:\n",
    "            data[sample][modality] = torch.from_numpy(np.load(file))\n",
    "    with open(f'data/{sample}_calibration.npy', 'rb') as file:\n",
    "        data[sample]['calibration'] = np.load(file, allow_pickle=True).item()"
   ]
  },
  {
   "cell_type": "markdown",
   "metadata": {},
   "source": [
    "#### Calculate low resolution images"
   ]
  },
  {
   "cell_type": "code",
   "execution_count": null,
   "metadata": {},
   "outputs": [],
   "source": [
    "def box_downsample(ar, factor):\n",
    "    return torch.nn.functional.interpolate(ar, scale_factor=1/factor, mode='area')\n",
    "\n",
    "\n",
    "def upsample(ar, factor):\n",
    "    # try changing 'bilinear' to 'area'\n",
    "    return torch.nn.functional.interpolate(ar, scale_factor=factor, mode='bilinear')"
   ]
  },
  {
   "cell_type": "code",
   "execution_count": null,
   "metadata": {},
   "outputs": [],
   "source": [
    "for sample in samples:\n",
    "    _ = box_downsample(data[sample]['disparity'][None, None], 4)\n",
    "    _ = upsample(_, 4)\n",
    "    data[sample]['lr4_disparity'] = _[0, 0]"
   ]
  },
  {
   "cell_type": "markdown",
   "metadata": {},
   "source": [
    "#### Compare MSEv and regular MSE"
   ]
  },
  {
   "cell_type": "code",
   "execution_count": null,
   "metadata": {},
   "outputs": [],
   "source": [
    "msev = MSEv('disparity', reduction='none')\n",
    "mse = torch.nn.MSELoss(reduction='none')\n",
    "\n",
    "\n",
    "fig, axes = plt.subplots(5, len(samples), figsize=[5 * len(samples), 5 * 5])\n",
    "for axes_ in axes:\n",
    "    for ax in axes_:\n",
    "        ax.get_xaxis().set_ticks([])\n",
    "        ax.get_yaxis().set_ticks([])\n",
    "labels = ['RGB', 'GT surface', 'Surface of some corrupted depth', 'MSEv', 'Regular MSE']\n",
    "for i, ax in enumerate(axes):\n",
    "    ax = ax[0]\n",
    "    ax.yaxis.set_label_position('left')\n",
    "    ax.set_ylabel(labels[i], fontsize=12)\n",
    "\n",
    "for sample_i, sample in enumerate(samples):\n",
    "    axes[0][sample_i].imshow(data[sample]['rgb'])\n",
    "    d = data[sample]['disparity']\n",
    "    d_low = data[sample]['lr4_disparity']\n",
    "    calib = data[sample]['calibration']\n",
    "    light = [0, 0, 1]\n",
    "    axes[1][sample_i].imshow(render_disparity(d, calibration=calib, light_dir=light))\n",
    "    axes[2][sample_i].imshow(render_disparity(d_low, calibration=calib, light_dir=light))\n",
    "    axes[3][sample_i].imshow(msev(d_low, d, calibration=calib)[0, 0])\n",
    "    axes[4][sample_i].imshow(mse(d_low[None, None], d[None, None])[0, 0])\n",
    "    \n",
    "fig.subplots_adjust(wspace=0, hspace=0)"
   ]
  }
 ],
 "metadata": {
  "kernelspec": {
   "display_name": "Python 3",
   "language": "python",
   "name": "python3"
  },
  "language_info": {
   "codemirror_mode": {
    "name": "ipython",
    "version": 3
   },
   "file_extension": ".py",
   "mimetype": "text/x-python",
   "name": "python",
   "nbconvert_exporter": "python",
   "pygments_lexer": "ipython3",
   "version": "3.7.6"
  }
 },
 "nbformat": 4,
 "nbformat_minor": 2
}
