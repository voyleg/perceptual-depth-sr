{
 "cells": [
  {
   "cell_type": "code",
   "execution_count": null,
   "metadata": {},
   "outputs": [],
   "source": [
    "import sys\n",
    "\n",
    "import numpy as np\n",
    "from matplotlib import pyplot as plt\n",
    "import scipy.signal\n",
    "import torch\n",
    "\n",
    "sys.path.append('./src')\n",
    "from msg.msg import MSGNet\n",
    "from msg.visualization import render_disparity"
   ]
  },
  {
   "cell_type": "markdown",
   "metadata": {},
   "source": [
    "## Load data"
   ]
  },
  {
   "cell_type": "code",
   "execution_count": null,
   "metadata": {},
   "outputs": [],
   "source": [
    "data = {}\n",
    "samples = 'lucy', 'plant', 'vintage'\n",
    "\n",
    "for sample in samples:\n",
    "    data[sample] = {}\n",
    "    for modality in 'disparity', 'rgb':\n",
    "        with open(f'data/{sample}_{modality}.npy', 'rb') as file:\n",
    "            data[sample][modality] = np.load(file)\n",
    "    with open(f'data/{sample}_calibration.npy', 'rb') as file:\n",
    "        data[sample]['calibration'] = np.load(file, allow_pickle=True)"
   ]
  },
  {
   "cell_type": "markdown",
   "metadata": {},
   "source": [
    "#### Calculate low resolution images"
   ]
  },
  {
   "cell_type": "code",
   "execution_count": null,
   "metadata": {},
   "outputs": [],
   "source": [
    "def box_downsample(ar, factor):\n",
    "    kernel = np.full((factor, factor), 1 / (factor**2))\n",
    "    ar = scipy.signal.convolve2d(np.asarray(ar), kernel, mode='full')\n",
    "    ar = ar[factor-1::factor, factor-1::factor]\n",
    "    return ar"
   ]
  },
  {
   "cell_type": "code",
   "execution_count": null,
   "metadata": {},
   "outputs": [],
   "source": [
    "for sample in samples:\n",
    "    data[sample]['lr4_disparity'] = box_downsample(data[sample]['disparity'], 4)\n",
    "    data[sample]['lr8_disparity'] = box_downsample(data[sample]['disparity'], 8)"
   ]
  },
  {
   "cell_type": "markdown",
   "metadata": {},
   "source": [
    "#### Visualize data"
   ]
  },
  {
   "cell_type": "code",
   "execution_count": null,
   "metadata": {},
   "outputs": [],
   "source": [
    "fig, axes = plt.subplots(len(samples), 4, figsize=[5 * 4, 5 * len(samples)])\n",
    "for axes_ in axes:\n",
    "    for ax in axes_:\n",
    "        ax.get_xaxis().set_ticks([])\n",
    "        ax.get_yaxis().set_ticks([])\n",
    "labels = ['rgb', 'x4 downsampled', 'x8 downsampled', 'gt']\n",
    "for i, ax in enumerate(axes[0]):\n",
    "    ax.xaxis.set_label_position('top')\n",
    "    ax.set_xlabel(labels[i], fontsize=12)\n",
    "fig.subplots_adjust(wspace=0, hspace=0)"
   ]
  },
  {
   "cell_type": "code",
   "execution_count": null,
   "metadata": {},
   "outputs": [],
   "source": [
    "for sample_i, sample in enumerate(samples):\n",
    "    axes[sample_i][0].imshow(data[sample]['rgb'])\n",
    "    axes[sample_i][1].imshow(data[sample]['lr4_disparity'], cmap='jet')\n",
    "    axes[sample_i][2].imshow(data[sample]['lr8_disparity'], cmap='jet')\n",
    "    axes[sample_i][3].imshow(data[sample]['disparity'], cmap='jet')"
   ]
  },
  {
   "cell_type": "code",
   "execution_count": null,
   "metadata": {},
   "outputs": [],
   "source": [
    "%matplotlib inline\n",
    "fig"
   ]
  },
  {
   "cell_type": "markdown",
   "metadata": {},
   "source": [
    "## Test"
   ]
  },
  {
   "cell_type": "code",
   "execution_count": null,
   "metadata": {},
   "outputs": [],
   "source": [
    "model = MSGNet(4)\n",
    "model.load_state_dict(torch.load('checkpoints/x4_clean.pth')['model_state_dict'])\n",
    "for sample in data.keys():\n",
    "    data[sample]['sr4_disparity'] = model.test(data[sample]['lr4_disparity'], data[sample]['rgb'])\n",
    "\n",
    "model = MSGNet(8)\n",
    "model.load_state_dict(torch.load('checkpoints/x8_clean.pth')['model_state_dict'])\n",
    "for sample in data.keys():\n",
    "    data[sample]['sr8_disparity'] = model.test(data[sample]['lr8_disparity'], data[sample]['rgb'])"
   ]
  },
  {
   "cell_type": "markdown",
   "metadata": {},
   "source": [
    "#### Visualize results"
   ]
  },
  {
   "cell_type": "code",
   "execution_count": null,
   "metadata": {},
   "outputs": [],
   "source": [
    "fig, axes = plt.subplots(9, len(samples), figsize=[5 * len(samples), 5 * 9])\n",
    "for axes_ in axes:\n",
    "    for ax in axes_:\n",
    "        ax.get_xaxis().set_ticks([])\n",
    "        ax.get_yaxis().set_ticks([])\n",
    "labels = ['rgb', 'x4 downsampled', 'x8 downsampled', 'x4 super-resolved', 'x8 super-resolved', 'gt', 'x4 super-resolved', 'x8 super-resolved', 'gt']\n",
    "for i, ax in enumerate(axes[:, 0]):\n",
    "    ax.yaxis.set_label_position('left')\n",
    "    ax.set_ylabel(labels[i], fontsize=12)\n",
    "fig.subplots_adjust(wspace=0, hspace=0)"
   ]
  },
  {
   "cell_type": "code",
   "execution_count": null,
   "metadata": {},
   "outputs": [],
   "source": [
    "def render_disparity_wrapper(disparity, calibration):\n",
    "    return render_disparity(disparity, calibration=calibration, light_dir=[0,0,1])"
   ]
  },
  {
   "cell_type": "code",
   "execution_count": null,
   "metadata": {},
   "outputs": [],
   "source": [
    "for sample_i, sample in enumerate(samples):\n",
    "    axes[0][sample_i].imshow(data[sample]['rgb'])\n",
    "    \n",
    "    axes[1][sample_i].imshow(data[sample]['lr4_disparity'], cmap='jet')\n",
    "    axes[2][sample_i].imshow(data[sample]['lr8_disparity'], cmap='jet')\n",
    "    axes[3][sample_i].imshow(data[sample]['sr4_disparity'], cmap='jet')\n",
    "    axes[4][sample_i].imshow(data[sample]['sr8_disparity'], cmap='jet')\n",
    "    axes[5][sample_i].imshow(data[sample]['disparity'], cmap='jet')\n",
    "    \n",
    "    axes[6][sample_i].imshow(render_disparity_wrapper(data[sample]['sr4_disparity'], data[sample]['calibration'].item()), cmap='gray')\n",
    "    axes[7][sample_i].imshow(render_disparity_wrapper(data[sample]['sr8_disparity'], data[sample]['calibration'].item()), cmap='gray')\n",
    "    axes[8][sample_i].imshow(render_disparity_wrapper(data[sample]['disparity'], data[sample]['calibration'].item()), cmap='gray')"
   ]
  },
  {
   "cell_type": "code",
   "execution_count": null,
   "metadata": {
    "scrolled": false
   },
   "outputs": [],
   "source": [
    "%matplotlib inline\n",
    "fig"
   ]
  },
  {
   "cell_type": "markdown",
   "metadata": {},
   "source": [
    "## Test Noisy"
   ]
  },
  {
   "cell_type": "code",
   "execution_count": null,
   "metadata": {},
   "outputs": [],
   "source": [
    "data = {}\n",
    "samples = 'books',\n",
    "\n",
    "for sample in samples:\n",
    "    data[sample] = {}\n",
    "    for modality in 'disparity', 'rgb', 'lr4_disparity':\n",
    "        with open(f'data/{sample}_{modality}.npy', 'rb') as file:\n",
    "            data[sample][modality] = np.load(file)\n",
    "    with open(f'data/{sample}_calibration.npy', 'rb') as file:\n",
    "        data[sample]['calibration'] = np.load(file, allow_pickle=True)"
   ]
  },
  {
   "cell_type": "markdown",
   "metadata": {},
   "source": [
    "#### x4 noisy"
   ]
  },
  {
   "cell_type": "code",
   "execution_count": null,
   "metadata": {},
   "outputs": [],
   "source": [
    "model = MSGNet(4)\n",
    "model.load_state_dict(torch.load('checkpoints/x4_noise_std0.003.pth')['model_state_dict'])\n",
    "for sample in samples:\n",
    "    data[sample]['sr4_disparity'] = model.test(data[sample]['lr4_disparity'], data[sample]['rgb'])"
   ]
  },
  {
   "cell_type": "code",
   "execution_count": null,
   "metadata": {},
   "outputs": [],
   "source": [
    "fig, axes = plt.subplots(7, len(samples), figsize=[5 * len(samples), 5 * 7])\n",
    "if len(samples) == 1:\n",
    "    axes = axes.reshape(axes.shape[0], 1)\n",
    "\n",
    "for axes_ in axes:\n",
    "    for ax in axes_:\n",
    "        ax.get_xaxis().set_ticks([])\n",
    "        ax.get_yaxis().set_ticks([])\n",
    "labels = ['rgb', 'low-res input', 'x4 super-resolved', 'gt', 'low-res input', 'x4 super-resolved', 'gt']\n",
    "for i, ax in enumerate(axes[:, 0]):\n",
    "    ax.yaxis.set_label_position('left')\n",
    "    ax.set_ylabel(labels[i], fontsize=12)\n",
    "fig.subplots_adjust(wspace=0, hspace=0)"
   ]
  },
  {
   "cell_type": "code",
   "execution_count": null,
   "metadata": {},
   "outputs": [],
   "source": [
    "for sample_i, sample in enumerate(samples):\n",
    "    axes[0][sample_i].imshow(data[sample]['rgb'])\n",
    "    \n",
    "    axes[1][sample_i].imshow(data[sample]['lr4_disparity'], cmap='jet')\n",
    "    axes[2][sample_i].imshow(data[sample]['sr4_disparity'], cmap='jet')\n",
    "    axes[3][sample_i].imshow(data[sample]['disparity'], cmap='jet')\n",
    "    \n",
    "    axes[4][sample_i].imshow(render_disparity_wrapper(data[sample]['lr4_disparity']*4, data[sample]['calibration'].item()), cmap='gray')\n",
    "    axes[5][sample_i].imshow(render_disparity_wrapper(data[sample]['sr4_disparity']*4, data[sample]['calibration'].item()), cmap='gray')\n",
    "    axes[6][sample_i].imshow(render_disparity_wrapper(data[sample]['disparity'], data[sample]['calibration'].item()), cmap='gray')"
   ]
  },
  {
   "cell_type": "code",
   "execution_count": null,
   "metadata": {
    "scrolled": false
   },
   "outputs": [],
   "source": [
    "%matplotlib inline\n",
    "fig"
   ]
  },
  {
   "cell_type": "code",
   "execution_count": null,
   "metadata": {},
   "outputs": [],
   "source": []
  }
 ],
 "metadata": {
  "kernelspec": {
   "display_name": "Python 3",
   "language": "python",
   "name": "python3"
  },
  "language_info": {
   "codemirror_mode": {
    "name": "ipython",
    "version": 3
   },
   "file_extension": ".py",
   "mimetype": "text/x-python",
   "name": "python",
   "nbconvert_exporter": "python",
   "pygments_lexer": "ipython3",
   "version": "3.7.4"
  }
 },
 "nbformat": 4,
 "nbformat_minor": 2
}
